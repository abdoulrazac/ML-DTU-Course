{
 "cells": [
  {
   "cell_type": "markdown",
   "metadata": {},
   "source": [
    "*Stanislav Borysov [stabo@dtu.dk], DTU Management*\n",
    "# Advanced Business Analytics"
   ]
  },
  {
   "cell_type": "markdown",
   "metadata": {},
   "source": [
    "## Web Data Mining - Part 3: Web Scraping"
   ]
  },
  {
   "cell_type": "markdown",
   "metadata": {},
   "source": [
    "Web crawling and scraping represent a very flexible way to get the content from the Internet. Essentially, it imitates a user who visits different webpages and views their content. The only difference is that Internet companies usually love real users and hate scraping bots. So be prepared to be blocked. **In the worst case, you can get into serious troubles so please always read Terms & Conditions and follow the company's policy about automatic data collection (or ask them directly if you are not sure)!**"
   ]
  },
  {
   "cell_type": "markdown",
   "metadata": {},
   "source": [
    "In this exercise, we will implement our web scraper. However, if you want to do it properly, just use one of the many frameworks available, for example, Scrapy (https://scrapy.org/)."
   ]
  },
  {
   "cell_type": "markdown",
   "metadata": {},
   "source": [
    "Let's try to get some data from the DTU website. Particularly, we want to get news headlines together with the date and short description from https://www.dtu.dk/english/news. Hopefully, we will not get banned or sued."
   ]
  },
  {
   "cell_type": "markdown",
   "metadata": {},
   "source": [
    "### 1. Navigating the website"
   ]
  },
  {
   "cell_type": "markdown",
   "metadata": {},
   "source": [
    "By default, the webpage shows 10 recent news items. The first task is to find out the URL structure to automatically navigate through the list of news, e.g. how to get the next 10 news items, show 100 news items instead of 10, etc. Try to figure out how which parameters in the URL are responsible for what."
   ]
  },
  {
   "cell_type": "markdown",
   "metadata": {},
   "source": [
    "`fr=FIRST_ITEM`\n",
    "\n",
    "`mr=NUMBER_OF_NEWS_TO_SHOW`\n",
    "\n",
    "For example, https://www.dtu.dk/english/news?&fr=11&mr=10"
   ]
  },
  {
   "cell_type": "code",
   "execution_count": 1,
   "metadata": {},
   "outputs": [],
   "source": [
    "url_base = \"https://www.dtu.dk/english/news\""
   ]
  },
  {
   "cell_type": "markdown",
   "metadata": {},
   "source": [
    "Generate and print a list of URLs to get webpages which contain the first 200 news items. \n",
    "\n",
    "***WARNING! Just generate the list and do not access the content!***"
   ]
  },
  {
   "cell_type": "code",
   "execution_count": 2,
   "metadata": {},
   "outputs": [
    {
     "name": "stdout",
     "output_type": "stream",
     "text": [
      "['https://www.dtu.dk/english/news?fr=1&mr=100', 'https://www.dtu.dk/english/news?fr=101&mr=100']\n"
     ]
    }
   ],
   "source": [
    "import math\n",
    "\n",
    "urls = []\n",
    "\n",
    "n_items = 200\n",
    "start = 1\n",
    "items_to_show = 100 # The webpage cannot show more then 100 items at once\n",
    "for i in range(math.ceil(n_items / items_to_show)):\n",
    "    parameters = [\n",
    "        \"fr={}\".format(start), \n",
    "        \"mr={}\".format(items_to_show)\n",
    "    ]\n",
    "    url = url_base + \"?\" + \"&\".join(parameters)\n",
    "    urls.append(url)\n",
    "    start += items_to_show\n",
    "\n",
    "print(urls)"
   ]
  },
  {
   "cell_type": "markdown",
   "metadata": {},
   "source": [
    "### 2. Scraping the webpage content"
   ]
  },
  {
   "cell_type": "markdown",
   "metadata": {},
   "source": [
    "***We will not do it.*** I already scrapped a webpage with news items and saved it using the code below."
   ]
  },
  {
   "cell_type": "code",
   "execution_count": null,
   "metadata": {},
   "outputs": [],
   "source": [
    "\"\"\"\n",
    "import urllib.request\n",
    "url = \"https://www.dtu.dk/english/news?fr=101&mr=100\"\n",
    "contents = urllib.request.urlopen(url).read()\n",
    "with open(\"dtu_news.html\", \"wb\") as f:\n",
    "    f.write(contents)\n",
    "\"\"\""
   ]
  },
  {
   "cell_type": "markdown",
   "metadata": {},
   "source": [
    "Note, that all markup and images are missing since we saved only the HTML content."
   ]
  },
  {
   "cell_type": "markdown",
   "metadata": {},
   "source": [
    "### 3. Extracting the data"
   ]
  },
  {
   "cell_type": "markdown",
   "metadata": {},
   "source": [
    "Load the data from the file"
   ]
  },
  {
   "cell_type": "code",
   "execution_count": 3,
   "metadata": {},
   "outputs": [],
   "source": [
    "with open(\"dtu_news.html\", \"r\") as f:\n",
    "    contents = f.read()"
   ]
  },
  {
   "cell_type": "markdown",
   "metadata": {},
   "source": [
    "The task to extract the news items from the contents using either regular expressions or HTML parser (e.g., PyQuery, BeautifulSoup) and save them to a JSON file.\n",
    "\n",
    "*HINT: To better understand the structure of the webpage, try:*\n",
    "- Chrome: right click -> inspect\n",
    "- Safari, Firefox, Edge: right click -> inspect element"
   ]
  },
  {
   "cell_type": "code",
   "execution_count": null,
   "metadata": {},
   "outputs": [],
   "source": [
    "\"\"\"\n",
    "# the output should be the following\n",
    "news = [\n",
    "    ...,\n",
    "    {\n",
    "        'url': 'https://www.dtu.dk/english/news/Nyhed?id={B4C5541F-8E2F-4118-9DA5-07A2BA6E2407}',\n",
    "        'title': 'New study underlines sea level rise in the Arctic ocean',\n",
    "        'desc': 'Sea levels in the Arctic oceans have risen an average of 2.2 millimeters per year over the last 22 years.This is the conclusion reached by a Danish-German research team...',\n",
    "        'date': '16 JUL'\n",
    "    },\n",
    "    ...\n",
    "]\n",
    "\"\"\""
   ]
  },
  {
   "cell_type": "code",
   "execution_count": 4,
   "metadata": {},
   "outputs": [],
   "source": [
    "from pyquery import PyQuery"
   ]
  },
  {
   "cell_type": "code",
   "execution_count": 5,
   "metadata": {},
   "outputs": [],
   "source": [
    "pq = PyQuery(contents)\n",
    "newsItems = pq('div.newsItem')"
   ]
  },
  {
   "cell_type": "code",
   "execution_count": 6,
   "metadata": {},
   "outputs": [
    {
     "name": "stdout",
     "output_type": "stream",
     "text": [
      "{'desc': 'A new DTU energy model has been used to reality-check the climate policy goals announced by the Danish government and six political parties.', 'date': '09 APR', 'title': 'Realistic climate initiatives from political parties? DTU crunches the numbers', 'url': 'https://www.dtu.dk/english/news/Nyhed?id={99BB89DB-206B-4F1F-A9FF-2AB72F060253}'}\n",
      "{'desc': 'DTU spin-out Tetramer Shop has gone to market with technology that can colour and thereby track immune cells and, thus, measure whether a treatment is working correctly...', 'date': '08 APR', 'title': 'DTU spin-out sells technology to monitor cancer treatments', 'url': 'https://www.dtu.dk/english/news/Nyhed?id={BBB6C6F0-7314-4DCD-8935-BBCDE795455A}'}\n",
      "{'desc': 'DTU Wind Energy is part of the new project, PivotBuoy. The aim of the project is to\\xa0reduce the cost of floating offshore wind.', 'date': '08 APR', 'title': 'PivotBuoy project receives €4m to unlock cost competitive floating wind', 'url': 'https://www.dtu.dk/english/news/Nyhed?id={FE2C2C11-67B1-49D9-A7DE-A4BA36BD2650}'}\n",
      "{'desc': '40 Danish and Chinese researchers committed to push collaborations\\xa0forward within the framework of Sino-Danish Center for Education and Research - \\xa0Sustainable Energy...', 'date': '05 APR', 'title': 'New Sustainable Energy Systems collaboration with China', 'url': 'https://www.dtu.dk/english/news/Nyhed?id={C06F179D-A51B-4B68-9A7C-BA57FDFA6A03}'}\n",
      "{'desc': 'In a joint project involving Rigshospitalet and DTU, parents of all Danish children with cancer will be given the offer to have the genetic characteristics of their children...', 'date': '05 APR', 'title': 'Personalized medicine for children with cancer', 'url': 'https://www.dtu.dk/english/news/Nyhed?id={76157F4A-5CD5-4320-965C-05DABE00199D}'}\n",
      "{'desc': 'Mapping patients’ genetic make-up could lead to better treatment for a wide range of diseases.', 'date': '05 APR', 'title': 'How close are we to personalized medicine?', 'url': 'https://www.dtu.dk/english/news/Nyhed?id={6F8EC9DE-4279-44CE-9E6A-719B805D0082}'}\n",
      "{'desc': 'A new project will develop technology for extracting protein from organic waste, which can subsequently be used as a protein supplement for humans or in animal...', 'date': '03 APR', 'title': 'Copenhageners’ biowaste may become steaks', 'url': 'https://www.dtu.dk/english/news/Nyhed?id={D0E614C2-FFC0-4083-BC41-83ECD9261A09}'}\n",
      "{'desc': 'Professor Per Christian Hansen from DTU Compute receives a VILLUM Investigator grant of DKK 35 million. He will develop new algorithms that can describe the uncertainty...', 'date': '03 APR', 'title': 'Mathematics professor named VILLUM Investigator', 'url': 'https://www.dtu.dk/english/news/Nyhed?id={87C403A6-8EFD-4B4A-9BA9-AD1C829E4986}'}\n",
      "{'desc': 'DTU is one of the 27 partners in a new large-scale European project. As responsible for one of the three demo islands (Bornholm) DTU will test a new storage technology...', 'date': '03 APR', 'title': 'Large-scale project to decarbonize European islands', 'url': 'https://www.dtu.dk/english/news/Nyhed?id={E645F46E-9DF1-4560-B949-386130CA0D8F}'}\n",
      "{'desc': 'Professor Thomas Andresen will become the new Head of Department of the newly created DTU Health Technology. (This story has been updated)', 'date': '02 APR', 'title': 'DTU appoints Head of DTU Health Technology', 'url': 'https://www.dtu.dk/english/news/Nyhed?id={04F8D37C-AC4E-492B-AB63-79566670C2E3}'}\n",
      "{'desc': 'MSc in Engineering and MBA Henrik Clausen has been appointed new member of the Board of Governors.', 'date': '02 APR', 'title': 'Henrik Clausen new external member of DTU’s Board of Governors', 'url': 'https://www.dtu.dk/english/news/Nyhed?id={7B196EDF-336F-4AB3-92C6-AB6535C40C2A}'}\n",
      "{'desc': 'DTU has entered into collaboration with the UK company Kromek aimed at developing a scanner that can improve breast cancer diagnostics.', 'date': '02 APR', 'title': 'DTU develops breast cancer scanning equipment', 'url': 'https://www.dtu.dk/english/news/Nyhed?id={B0932173-208B-4EFA-AB81-3B6C2DCFD052}'}\n",
      "{'desc': 'Two DTU researchers have received the prestigious ERC Advanced Grants from the European Research Council.', 'date': '29 MAR', 'title': 'Two DTU researchers receive EUR 5 million from the ERC for independent research', 'url': 'https://www.dtu.dk/english/news/Nyhed?id={247B2ACB-8A21-4E79-B6FB-4F93D4741630}'}\n",
      "{'desc': 'DTU has entered into collaboration on establishing a new digital infrastructure, which will, among other things, facilitate fast, easy and open access to data to be used...', 'date': '29 MAR', 'title': 'New unique infrastructure to accelerate development of digital solutions for the...', 'url': 'https://www.dtu.dk/english/news/Nyhed?id={60CE1ABE-93F1-4E12-B094-8A1B2BA8EA56}'}\n",
      "{'desc': 'DTU Space and UK company Kromek have started a collaboration to develop a new advanced scanner that have a huge potential for improving breast cancer diagnosis.', 'date': '29 MAR', 'title': 'DTU Space to develop cancer scanner with English company', 'url': 'https://www.dtu.dk/english/news/Nyhed?id={6BC6DBD4-9186-4E2D-94A2-75C13BD6C5C3}'}\n",
      "{'desc': 'Under new EU rules, fishermen must land previously discarded catches. New control methods are needed—for example video cameras and DNA analyses.', 'date': '27 MAR', 'title': 'Cameras and DNA tests to control discard fish', 'url': 'https://www.dtu.dk/english/news/Nyhed?id={F6691075-22B1-4210-9CA2-519C20A31318}'}\n",
      "{'desc': 'Researchers must help Denmark develop the first autonomous ships.', 'date': '26 MAR', 'title': 'Danish shipping must be autonomous', 'url': 'https://www.dtu.dk/english/news/Nyhed?id={B69D7495-5AE4-4143-8320-6C6CFDFF6C3F}'}\n",
      "{'desc': 'Researchers from DTU Biosustain have successfully produced mammalian cell lines (CHO) that can produce 1.2 g/L recombinant Alpha-1-antitrypsin proteins with human glycosylation...', 'date': '26 MAR', 'title': 'Human protein produced in CHO-cells can save donor blood', 'url': 'https://www.dtu.dk/english/news/Nyhed?id={3AA1F90B-3ECD-4093-AF56-420BD9F43D55}'}\n",
      "{'desc': 'Six exciting DTU projects with significant commercial potential have been awarded DTU’s Proof of Concept grant of up to DKK 500.000 in this year’s first application round...', 'date': '25 MAR', 'title': 'Six projects awarded DTU’s PoC grant', 'url': 'https://www.dtu.dk/english/news/Nyhed?id={8BB0E6EC-4756-4368-9469-77D47D17A044}'}\n",
      "{'desc': 'Research, innovation, education, and entrepreneurship can contribute to the development of new technologies in the water sector according to a new report.', 'date': '25 MAR', 'title': 'Digitalization can drive new water technologies', 'url': 'https://www.dtu.dk/english/news/Nyhed?id={64B3AFFA-2457-4263-892C-02374FF1EDC5}'}\n",
      "{'desc': 'The world’s first starfish meal factory will be inaugurated at the Limfjord on Friday, 29 March as a result of collaboration between universities and businesses.', 'date': '25 MAR', 'title': 'From menace to resource: Starfish become animal feed', 'url': 'https://www.dtu.dk/english/news/Nyhed?id={D9943BFA-8EBC-4E58-976A-9B0176B14002}'}\n",
      "{'desc': 'The big Chinese fine chemical company Zhejiang NHU invests €5.5 M in the biotech start-up Cysbio to develop new and affordable biochemicals.', 'date': '25 MAR', 'title': 'Danish biotech company announces the completion of a €5.5 M seed investment', 'url': 'https://www.dtu.dk/english/news/Nyhed?id={1E509101-9C36-4EC9-BBD8-71F94A54DC3C}'}\n",
      "{'desc': '', 'date': '19 MAR', 'title': 'UNEP DTU signs MoU with Argentinian network of municipalities for energy efficiency...', 'url': 'https://www.dtu.dk/english/news/Nyhed?id={BFD57621-9180-471A-B417-FA0F9E4563D0}'}\n",
      "{'desc': 'DTU Wind Energy has been chosen to lead the secretariat of the International Energy Agency Wind Technology Collaboration Programme, also known as IEA Wind TCP.', 'date': '19 MAR', 'title': 'DTU Wind Energy granted the secretariat of IEA Wind TCP', 'url': 'https://www.dtu.dk/english/news/Nyhed?id={C099156C-416C-45EC-9CBB-7A1C03F57B26}'}\n",
      "{'desc': 'Researchers from DTU and the University of Copenhagen are now pointing out that narcolepsy is an autoimmune disease. This may be important to future treatment of this chronic...', 'date': '19 MAR', 'title': 'Narcolepsy may be caused by the body attacking itself', 'url': 'https://www.dtu.dk/english/news/Nyhed?id={F6599FB5-756E-41CA-8199-D2047AF22278}'}\n",
      "{'desc': 'Students will receive funding of EUR 13,400 to develop and test sustainable concepts before and during the People’s Political Festival 2019.', 'date': '18 MAR', 'title': 'Students accelerate sustainable solutions at Folkemødet', 'url': 'https://www.dtu.dk/english/news/Nyhed?id={52338DDD-E182-4B50-A288-F892D6E31962}'}\n",
      "{'desc': 'A new large research network will strengthen European cybersecurity capacity. DTU represents Denmark in CyberSec4Europe pilot project.', 'date': '18 MAR', 'title': 'EU strengthens cybersecurity research', 'url': 'https://www.dtu.dk/english/news/Nyhed?id={91201F2B-977E-48BD-BB7A-61A38845683A}'}\n",
      "{'desc': 'Zero Hunger: The hunt for proteins', 'date': '15 MAR', 'title': 'Focus on proteins', 'url': 'https://www.dtu.dk/english/news/Nyhed?id={F2C013FE-685F-4B61-BBFD-FEE53CBBB5FB}'}\n",
      "{'desc': 'Putting insects on the menu requires more than just good presentation, according to Roberto Flore, a renowned chef who has travelled far and wide to explore the world of...', 'date': '15 MAR', 'title': 'Can insects feed the world', 'url': 'https://www.dtu.dk/english/news/Nyhed?id={91B1170F-0A59-479A-AEF4-31928176485A}'}\n",
      "{'desc': 'Fish from fish farms are feeding more and more mouths. But what should the fish eat? Research shows that plant proteins may be the answer.', 'date': '15 MAR', 'title': 'Fish can be fed plant waste products', 'url': 'https://www.dtu.dk/english/news/Nyhed?id={E25077A0-DE8A-425B-9AB6-9560938E48C6}'}\n",
      "{'desc': 'Food researchers have invented methods for extracting proteins from seaweed. One of them is now being tested in a pilot plant at ingredient producer CP Kelco .', 'date': '15 MAR', 'title': 'From seaweed to proteins', 'url': 'https://www.dtu.dk/english/news/Nyhed?id={24C8B5B8-5ABC-4615-B93C-ABC15E885E7F}'}\n",
      "{'desc': 'Research plays a key role when dairy giant Arla Foods develops products for third-world countries.', 'date': '15 MAR', 'title': 'Healthy low-cost food for the third world', 'url': 'https://www.dtu.dk/english/news/Nyhed?id={BEF74092-1A50-4550-A1CD-36E0089BDDBC}'}\n",
      "{'desc': 'Cases for DTU’s research and innovation in relation to proteins for animal feed and food products.', 'date': '15 MAR', 'title': 'New protein sources', 'url': 'https://www.dtu.dk/english/news/Nyhed?id={F4818550-C273-46FE-BAF4-9057E37CA2F9}'}\n",
      "{'desc': 'A new project led by DTU has been granted 19 million DKK by the Danish Energy Technology Development and Demonstration Program. The project will demonstrate the largest...', 'date': '14 MAR', 'title': 'Largest battery in Denmark to be installed on Bornholm', 'url': 'https://www.dtu.dk/english/news/Nyhed?id={B1CAFAA9-A836-4643-9F3F-9113B47842C1}'}\n",
      "{'desc': 'A new mentor programme for pre-startups was officially launched at DTU last month. The programme will help young DTU entrepreneurs turn their inventions into successful...', 'date': '12 MAR', 'title': 'New mentor programme for pre-startups launched at DTU', 'url': 'https://www.dtu.dk/english/news/Nyhed?id={60C0C1B3-4080-4523-BE01-CD38BA9F2C03}'}\n",
      "{'desc': 'Inquisitive young people were already waiting in large groups when DTU opened its doors for the Open House 2019 event at 12 noon. And more than 600 students and staff wearing...', 'date': '11 MAR', 'title': 'Packed Open House event', 'url': 'https://www.dtu.dk/english/news/Nyhed?id={A1E601B6-926C-4957-8D3D-04E768856048}'}\n",
      "{'desc': 'Research from the Technical University of Denmark allows excess rice intended for use in sushi to be converted into beer.', 'date': '11 MAR', 'title': 'Sustainable beer made from surplus sushi rice', 'url': 'https://www.dtu.dk/english/news/Nyhed?id={72AB1E47-6613-4828-8E81-2575AD327417}'}\n",
      "{'desc': 'Both the President and one other member of the Danish government’s new Youth Climate Council are DTU students.', 'date': '08 MAR', 'title': 'DTU strongly represented in the Danish Youth Climate Council', 'url': 'https://www.dtu.dk/english/news/Nyhed?id={2D8786E3-F57A-40DC-AEE1-FC68696B01A6}'}\n",
      "{'desc': 'Sewage can reveal the occurrence of antimicrobial resistant bacteria among healthy populations, an international study led by the Technical University of Denmark shows...', 'date': '08 MAR', 'title': 'Sewage reveals levels of antimicrobial resistance worldwide', 'url': 'https://www.dtu.dk/english/news/Nyhed?id={EC5B22D1-FC69-4366-A9BB-4B55330BA7E0}'}\n",
      "{'desc': 'Portrait: Colleagues at DTU Nutech characterize Xiaolin Hou as an extremely skilled chemist with a tremendous work capacity. He is now being honoured with the world’s...', 'date': '08 MAR', 'title': '\"The most important thing is to contribute to society\"', 'url': 'https://www.dtu.dk/english/news/Nyhed?id={957B7950-1D80-4553-B2B7-D6C18139D6E1}'}\n",
      "{'desc': 'Three postdocs from DTU each receive EUR 175,000–200,000 from Independent Research Fund Denmark for conducting research at elite international universities.', 'date': '07 MAR', 'title': 'Postdocs receive millions for international research', 'url': 'https://www.dtu.dk/english/news/Nyhed?id={35D5B239-7835-4743-9C0C-1771DF19A602}'}\n",
      "{'desc': 'BEng students develop entirely new type of coupling enabling disassembly of off-road go-karts for easier and cheaper transport.', 'date': '06 MAR', 'title': 'New design brings competitive advantages for go-kart manufacturer', 'url': 'https://www.dtu.dk/english/news/Nyhed?id={9C46DCD3-9C21-4904-B97C-F43AA8D38B32}'}\n",
      "{'desc': 'Researchers at DTU Civil Engineering are testing high-plasticity clays from the seabed under the Fehmarn Belt and exploring new methods for treating them.', 'date': '05 MAR', 'title': 'Knowledge of high-plasticity clays may prolong design life of structures', 'url': 'https://www.dtu.dk/english/news/Nyhed?id={77233DB3-3E54-406F-ACD9-4B9CC014EA4A}'}\n",
      "{'desc': 'Three students have developed a system that eliminates blind spots by creating the illusion for the driver that the lorry is transparent.', 'date': '05 MAR', 'title': 'Augmented reality can remove lorry’s blind spots', 'url': 'https://www.dtu.dk/english/news/Nyhed?id={C39F5438-7C4B-4BFE-B251-901FF6068EFA}'}\n",
      "{'desc': 'New research from DTU Biosustain and Rigshospitalet suggests that disease-causing microbes in young cystic fibrosis (CF) patients change rapidly within two to three years...', 'date': '04 MAR', 'title': 'Researchers find window of opportunity for treatment of early cystic fibrosis...', 'url': 'https://www.dtu.dk/english/news/Nyhed?id={933A4764-BAD0-43E4-89FD-72537C033759}'}\n",
      "{'desc': 'Students, researchers, and project partners came to watch as a newly developed green concrete was cast in a new laboratory building at DTU Civil Engineering.', 'date': '04 MAR', 'title': 'DTU tests eco-friendly concrete in new construction project', 'url': 'https://www.dtu.dk/english/news/Nyhed?id={053930D5-8452-4AF3-85E8-DC4404ABBDE7}'}\n",
      "{'desc': 'It is now to be specified in concrete terms how the Danish Government’s objective to phase out petrol-powered passenger cars can be met. Three of the six external experts...', 'date': '01 MAR', 'title': 'DTU joins commission on green transition for passenger cars', 'url': 'https://www.dtu.dk/english/news/Nyhed?id={6932E10D-6F85-4D8A-82D3-1A1FB1479BAF}'}\n",
      "{'desc': 'Doctoral Dissertation: Ulrik Dam Nielsen sheds new light on the measurement of wave energy and the impact ships are exposed to during voyages at sea.', 'date': '01 MAR', 'title': 'Knowledge of wave energy can result in more eco-friendly shipping', 'url': 'https://www.dtu.dk/english/news/Nyhed?id={8A2B17BF-03CB-44D8-9FA6-4A3657287EB6}'}\n",
      "{'desc': 'Professor Kristian Sommer Thygesen from DTU Physics is among this year’s recipients of the EliteForsk Prize, which he receives for his research in two-dimensional materials...', 'date': '01 MAR', 'title': 'Kristian Sommer Thygesen receives EliteForsk Prize', 'url': 'https://www.dtu.dk/english/news/Nyhed?id={49CC60B2-F9CF-4A47-A1F0-0912E59784C3}'}\n",
      "{'desc': '3 early-stage start-ups from DTU have been accepted in BII’s attractive Business Acceleration Academy where they will take their very first steps towards market. ...', 'date': '28 FEB', 'title': '3 DTU start-ups in BII’s Business Acceleration Academy', 'url': 'https://www.dtu.dk/english/news/Nyhed?id={1DF3A0EB-4AA3-4CF4-BD63-F9A6FC4097A3}'}\n",
      "{'desc': 'Several chemical compounds found in cannabis (cannabinoids) have now been produced by genetically modified yeast, reports a paper published in Nature. This finding can...', 'date': '28 FEB', 'title': 'Brewing cannabinoids in yeast', 'url': 'https://www.dtu.dk/english/news/Nyhed?id={5DFA50D0-0565-452F-A4DD-3C4D1039CAC5}'}\n",
      "{'desc': \"In the fight against antibiotic resistance, the UN Food and Agriculture Organization, FAO, is encouraging other countries to be inspired by Denmark's experience in reducing...\", 'date': '28 FEB', 'title': 'The UN highlights Danish fight against antimicrobial resistance', 'url': 'https://www.dtu.dk/english/news/Nyhed?id={033AB61B-3BE6-4414-9333-BE90971CE935}'}\n",
      "{'desc': 'Good role models and an active ecosystem at DTU helped to establish 87 new businesses in 2018. In 2017, the figure was 60.', 'date': '26 FEB', 'title': 'Record number of start-ups at DTU', 'url': 'https://www.dtu.dk/english/news/Nyhed?id={664B246F-C777-4471-B209-CBD41D6CE622}'}\n",
      "{'desc': 'Risk assessments of endocrine disruptors should take better account of uncertainties relating to harmful effects to ensure the risk is not underestimated.', 'date': '26 FEB', 'title': 'Do risk assessments of endocrine disruptors provide sufficient protection?', 'url': 'https://www.dtu.dk/english/news/Nyhed?id={C1EB66DF-07F5-4DDF-BDB5-734347FDC2B6}'}\n",
      "{'desc': 'BEng student has developed a new, lighter type of roll cage for racing cars which offers improved acceleration and road handling.', 'date': '25 FEB', 'title': 'Final project can boost racing car performance', 'url': 'https://www.dtu.dk/english/news/Nyhed?id={7D65CDB0-ACEB-4B4D-8723-2E9899B683B2}'}\n",
      "{'desc': 'New European project headed by DTU to set the framework for the future of EU energy funding and research based on new catalysis methods.', 'date': '20 FEB', 'title': 'DTU leading major project on future EU energy research', 'url': 'https://www.dtu.dk/english/news/Nyhed?id={6E26CA74-9DD4-4787-B7CF-66E29107B8DC}'}\n",
      "{'desc': 'Leveraging modern car technology to continuously collect road data may help produce real-time digital images of road maintenance needs.', 'date': '20 FEB', 'title': 'Cars to report on road condition', 'url': 'https://www.dtu.dk/english/news/Nyhed?id={EB189620-182A-4CD2-BD57-4A996E67A93B}'}\n",
      "{'desc': 'Cities and universities around the Baltic Sea are developing a flood control planning solution for city planners. The tool, called ‘NOAH’, will help cities to prevent...', 'date': '20 FEB', 'title': 'Flood control in Baltic Sea cities provides tools for cleaner Baltic Sea', 'url': 'https://www.dtu.dk/english/news/Nyhed?id={9A5D8659-980E-457F-BFAF-C3BEC65022B0}'}\n",
      "{'desc': 'Scientists from The Novo Nordisk Foundation Center for Biosustainability (DTU) have discovered that a combination of two common antibiotics is able to eliminate multi-drug...', 'date': '19 FEB', 'title': 'Cocktail of common antibiotics can fight resistant E. coli', 'url': 'https://www.dtu.dk/english/news/Nyhed?id={06D4F29B-F7AA-41D1-9D69-D331EC57B341}'}\n",
      "{'desc': 'Students can now apply to enrol in a new BEng programme— Fisheries Technology —starting in September.', 'date': '19 FEB', 'title': 'New study programme focusing on Greenland and global fisheries', 'url': 'https://www.dtu.dk/english/news/Nyhed?id={A0A4C6A2-3A09-4B6F-A521-6AD7E9835332}'}\n",
      "{'desc': 'International research team headed by young chemist designs a new 2D material by combining organic molecules through inorganic ions.', 'date': '19 FEB', 'title': 'Young chemist behind new 2D material', 'url': 'https://www.dtu.dk/english/news/Nyhed?id={27FA7FA7-BC08-419B-ABA5-BA269A921680}'}\n",
      "{'desc': 'A team of researchers from Denmark has solved one of the biggest challenges in making effective nanoelectronics based on graphene. The new results have just been published...', 'date': '18 FEB', 'title': 'Breakthrough in the search for graphene-based electronics', 'url': 'https://www.dtu.dk/english/news/Nyhed?id={8B78EF7F-00D4-41FE-9740-06E81AF2BBA0}'}\n",
      "{'desc': 'BEng student Rune Rysbjerg Møller’s work with renewable energy has made a big impression at his Greenlandic internship company.', 'date': '18 FEB', 'title': 'Intern influences Greenland’s energy production', 'url': 'https://www.dtu.dk/english/news/Nyhed?id={ABD98C51-C005-4D34-B023-B7ADB94759B8}'}\n",
      "{'desc': 'Four master students at the Technical University of Denmark have once again won a prize for their do-it-yourself product, which transforms chickpea brine into a vegan...', 'date': '14 FEB', 'title': 'Students awarded prize for vegan do-it-yourself cheese', 'url': 'https://www.dtu.dk/english/news/Nyhed?id={80685532-28A4-4585-BEB5-14383F10DF7C}'}\n",
      "{'desc': 'Climate change is influencing the distribution of zooplankton in the sea, thereby affecting the contribution made by plankton to removing carbon dioxide from the atmosphere...', 'date': '14 FEB', 'title': 'Climate change is impacting the ocean’s ability to fix carbon dioxide', 'url': 'https://www.dtu.dk/english/news/Nyhed?id={8959F9DD-8896-48BC-8383-265DCBD7365C}'}\n",
      "{'desc': 'Supercomputers make a big difference to DTU researchers and students and are a prerequisite for many research projects.', 'date': '08 FEB', 'title': 'DTU boasts top-performing supercomputers', 'url': 'https://www.dtu.dk/english/news/Nyhed?id={E9941ABC-21BE-4BA4-8F3C-402A965270AF}'}\n",
      "{'desc': 'Have you ever considered studying online? If yes, please look at the Master of Wind Energy which DTU Wind Energy offers.', 'date': '06 FEB', 'title': 'Meet Windy the Polar Bear', 'url': 'https://www.dtu.dk/english/news/Nyhed?id={2E3135DB-21CE-4F65-A3B9-23B1D3A06A4D}'}\n",
      "{'desc': 'Two experienced DTU lecturers have developed the game T-mind for technology lecturers.', 'date': '06 FEB', 'title': 'New game to promote good teaching', 'url': 'https://www.dtu.dk/english/news/Nyhed?id={B6159270-09A6-46C2-96F5-4164CCDD9333}'}\n",
      "{'desc': 'Scientists from the Novo Nordisk Foundation Center for Biosustainability (DTU) have found four new anti-CRISPR proteins that are distributed across different environments...', 'date': '05 FEB', 'title': 'New anti-CRISPR proteins discovered in soil and human gut', 'url': 'https://www.dtu.dk/english/news/Nyhed?id={D0F3E829-6F5A-44BA-A009-C7259503258E}'}\n",
      "{'desc': 'A six-year-long, large-scale research cooperation has documented that a diet, which includes whole-grains helps to prevent type 2 diabetes and cardiovascular disease...', 'date': '05 FEB', 'title': 'Grains are beneficial to health', 'url': 'https://www.dtu.dk/english/news/Nyhed?id={179E41D5-6532-45FD-BFE7-D41996552068}'}\n",
      "{'desc': 'On 1 March, Karina Rothoff Brix will take up her new position as Director of DTU Learn for Life.', 'date': '04 FEB', 'title': 'New director for DTU Learn for Life', 'url': 'https://www.dtu.dk/english/news/Nyhed?id={26C51A85-AF77-4D4C-8C15-7DB6BB2E46AB}'}\n",
      "{'desc': 'Company to supply catalytic converters for reducing car pollution. Research collaboration is part of the equation.', 'date': '04 FEB', 'title': 'Fast track to cleaner diesel exhaust', 'url': 'https://www.dtu.dk/english/news/Nyhed?id={2175EBFA-2415-4C1F-9896-F7E5A628FD5C}'}\n",
      "{'desc': 'Innovation Fund Denmark ’s Industrial Researcher Prize is being awarded to Martina Fischetti this year, who developed mathematical optimization models in her industrial...', 'date': '01 FEB', 'title': 'DTU researcher receives 2019 Industrial Researcher Prize', 'url': 'https://www.dtu.dk/english/news/Nyhed?id={D8154F2C-FEE0-4826-8BB1-01D568D8C651}'}\n",
      "{'desc': 'With the vision of Denmark as a front-runner in the green transition, the Danish Growth Team for sustainable energy and green technology today presented 10 specific recommendations...', 'date': '31 JAN', 'title': 'Improved access to data and better frameworks for test and demonstration will...', 'url': 'https://www.dtu.dk/english/news/Nyhed?id={C02045E5-66D9-4349-B9B8-409C97EE34A8}'}\n",
      "{'desc': 'New research into 3D printing is being done on open platforms, so that all businesses and researchers interested in this can get access to knowledge about the underlying...', 'date': '30 JAN', 'title': 'Foundation supports research into 3D printing', 'url': 'https://www.dtu.dk/english/news/Nyhed?id={1693E23D-64C2-4972-BF7F-103076F92711}'}\n",
      "{'desc': 'Four young DTU researchers will each receive DKK 10 million for their research. This takes place at the annual appointment of Villum Young Investigators, at which VILLUM...', 'date': '28 JAN', 'title': 'Four DTU researchers chosen as Villum Young Investigators', 'url': 'https://www.dtu.dk/english/news/Nyhed?id={0F26DBBB-A465-4EDE-95D4-2D6DF81F3796}'}\n",
      "{'desc': 'BEng students have developed the mathematics underlying the new taxi sharing service CabShare.', 'date': '28 JAN', 'title': 'Taxi sharing made possible by students’ algorithm', 'url': 'https://www.dtu.dk/english/news/Nyhed?id={A9674F47-9963-485C-9FAF-A23880BC8A96}'}\n",
      "{'desc': 'Start-ups with DTU students on board yesterday won four out of five Venture Cup categories, including the overall prize of\\xa0 EUR 14,000.', 'date': '25 JAN', 'title': 'DTU start-up wins top Venture Cup prize', 'url': 'https://www.dtu.dk/english/news/Nyhed?id={E2F34B9C-DB9F-4B37-94EE-5E1EEB0C8B6E}'}\n",
      "{'desc': 'DTU and the Danish Rail Sector Association are extending a contract designed to allow future engineers to learn more about the many fields of work in the rail sector.', 'date': '24 JAN', 'title': 'Future engineers learning more about the rail industry', 'url': 'https://www.dtu.dk/english/news/Nyhed?id={263DF1D3-2F36-4797-ADEA-0BCEAEC83A71}'}\n",
      "{'desc': 'From autumn 2019, DTU offers a new MSc programme in advanced materials and healthcare engineering.', 'date': '23 JAN', 'title': 'New study programme focuses on healthcare technology materials', 'url': 'https://www.dtu.dk/english/news/Nyhed?id={B518AD75-0261-4F4D-BF87-A3747A6EE726}'}\n",
      "{'desc': 'New study shows that the melt process reacts surprisingly quickly to changes in the atmosphere and the waters around Greenland.', 'date': '22 JAN', 'title': 'Greenland ice melt accelerating dramatically', 'url': 'https://www.dtu.dk/english/news/Nyhed?id={11A6A4A1-CEA9-42AE-B474-7329C1E5E75D}'}\n",
      "{'desc': 'The biotech start-up company from DTU Biosustain, Enduro Genetics, optimises large-scale fermentation by making the workhorse cells genetically addicted to producing...', 'date': '22 JAN', 'title': 'Addictive cells boost protein production', 'url': 'https://www.dtu.dk/english/news/Nyhed?id={1C2D1D9D-E85B-45F3-92F2-29AF26428F40}'}\n",
      "{'desc': 'Mother during the day. Researcher at night. Meet Fatima AlZahra’a Alatraktchi who has developed a nanosensor to understand the language of bacteria.', 'date': '22 JAN', 'title': 'Portrait: “I wish there was a parallel world”', 'url': 'https://www.dtu.dk/english/news/Nyhed?id={65D26F39-26DE-4133-89C3-3FD01229A29C}'}\n",
      "{'desc': \"DTU's honorary alumnus 2019 is Tomas Zhang Mathiesen, who has already done a lot for his study programme just a few years after his graduation.\", 'date': '21 JAN', 'title': 'DTU’s honorary alumnus 2019 is a fantastic ambassador for DTU and the export engineering...', 'url': 'https://www.dtu.dk/english/news/Nyhed?id={E7C79D1D-4E37-4FE8-82E6-1A7E01D592C9}'}\n",
      "{'desc': 'A young researcher has discovered a solution for using rechargeable batteries in hearing aids without increasing their size or creating unwanted noise.', 'date': '21 JAN', 'title': 'Rechargeable hearing aids becoming ever smaller', 'url': 'https://www.dtu.dk/english/news/Nyhed?id={96765CB6-0A73-40CC-A2E0-E861B6FF5F7D}'}\n",
      "{'desc': 'Researchers from DTU Space have helped identify a phenomenon rarely observed, originating from a giant stellar explosion far out in the universe. The new discovery has...', 'date': '21 JAN', 'title': 'Violent stellar explosion provides new knowledge about the universe', 'url': 'https://www.dtu.dk/english/news/Nyhed?id={77FC2C6C-3013-4191-8B8C-F327827BB191}'}\n",
      "{'desc': 'DTU invited girls from high school and the upper levels of primary school to come to their laboratories and explore science and technology.', 'date': '18 JAN', 'title': 'Girls doing scientific experiments', 'url': 'https://www.dtu.dk/english/news/Nyhed?id={E07C75C1-F862-4827-AF25-4A14084CD024}'}\n",
      "{'desc': 'DTU Skylab helped distribute record amounts for student start-ups in 2018, with several projects receiving more than EUR 13,400.', 'date': '16 JAN', 'title': 'Skylab obtains record grants for student start-ups', 'url': 'https://www.dtu.dk/english/news/Nyhed?id={9F6CD32F-73A0-4D44-A8BB-95262472D846}'}\n",
      "{'desc': 'A new DTU analysis indicates that in the long term, Danish CHP plants should be exclusively sized for Danish waste volumes.', 'date': '16 JAN', 'title': 'Waste imports detrimental to climate in the long term', 'url': 'https://www.dtu.dk/english/news/Nyhed?id={D554B55E-3A8C-485E-AD30-74B4192A2ADB}'}\n",
      "{'desc': 'Better and cheaper offshore wind farms are the goal for cooperation on renewable energy.', 'date': '15 JAN', 'title': 'Danish-Norwegian Cooperation on Offshore Wind Expanded', 'url': 'https://www.dtu.dk/english/news/Nyhed?id={77891989-6CE2-4AB5-B966-23BCFC89C9A4}'}\n",
      "{'desc': 'The end of the Danish EUDP-supported demonstration project, Parker, was recently marked by a major conference at the Danish Technical University in Risø. Here, the project...', 'date': '14 JAN', 'title': 'The match has been made – EVs are ready to support the electricity grid', 'url': 'https://www.dtu.dk/english/news/Nyhed?id={43106D18-555B-4C6C-89C6-4377A551A346}'}\n",
      "{'desc': 'Researchers now present a very detailed map on metabolic engineering routes for the production of a wide range of sustainable chemicals. This map will ease the construction...', 'date': '14 JAN', 'title': 'Bio-map charts production routes for industrial chemicals', 'url': 'https://www.dtu.dk/english/news/Nyhed?id={C95076F2-82FB-4EC7-8321-26E8BFCCB757}'}\n",
      "{'desc': 'In a project headed by DTU Food, researchers and companies are working together to find a profitable way to extract protein from grass and to make this protein taste delicious...', 'date': '14 JAN', 'title': 'Grass to be turned into profitable and safe source of protein', 'url': 'https://www.dtu.dk/english/news/Nyhed?id={5D2FBA66-F6D3-4374-9A45-CD935E250A98}'}\n",
      "{'desc': 'A new EU project aims to modify bacteria, enabling them to produce fluorinated substances sustainably. Today, fluorinated products are produced chemically, which has significant...', 'date': '10 JAN', 'title': 'Bacteria to produce sustainable fluorinated substances', 'url': 'https://www.dtu.dk/english/news/Nyhed?id={F1BB3394-A7FD-4BBC-B957-DE694CAC6B78}'}\n",
      "{'desc': 'With EUR 282,000 of funding from the Novo Nordisk Foundation , DTU Space is to head the development of a virtual learning environment for schools and youth education...', 'date': '10 JAN', 'title': 'DTU Space to develop virtual space tour for youngsters', 'url': 'https://www.dtu.dk/english/news/Nyhed?id={13EC2645-1941-41B4-9A6B-FCA17A2DBB42}'}\n",
      "{'desc': 'In their efforts to monitor and control antimicrobial use in humans and animals, Asian authorities have been learning from the experience gained by Danish experts at...', 'date': '10 JAN', 'title': 'Danish antimicrobial surveillance model inspires in Asia', 'url': 'https://www.dtu.dk/english/news/Nyhed?id={69293E54-2A1F-4B3D-82EA-86B2F77AF31D}'}\n",
      "{'desc': 'A new DTU research project seeks to reduce bottlenecks and optimize human resources in hospital accident and emergency departments.', 'date': '09 JAN', 'title': 'Help with shorter waiting times for emergency departments', 'url': 'https://www.dtu.dk/english/news/Nyhed?id={6FA8B0CE-8180-4B98-BCDA-46AEF42C8AD3}'}\n",
      "{'desc': 'A big new EU project called SHIKIFACTORY100 aims at producing more than 100 high value compounds and chemicals such as flavours and fragrances biologically. This will...', 'date': '08 JAN', 'title': 'Creating flavours and fragrances from “shiki” cell factories', 'url': 'https://www.dtu.dk/english/news/Nyhed?id={3C4E5660-DA60-4CB6-B896-747B5C3CCB64}'}\n",
      "{'desc': 'New technology will soon make the surface of titanium used for dental implants completely white. This will be immensely important for the growing part of the population...', 'date': '07 JAN', 'title': 'Dental implants soon to be completely white', 'url': 'https://www.dtu.dk/english/news/Nyhed?id={269D1932-E876-4DAA-91D3-B4763D9108A6}'}\n",
      "{'desc': 'A new EU-project will focus on engineering bacteria to produce fluorinated compounds. Currently, these compounds can only be produced with traditional chemistry, which...', 'date': '07 JAN', 'title': 'Using bacteria to produce fluorinated products sustainably', 'url': 'https://www.dtu.dk/english/news/Nyhed?id={68CABCF6-5270-40EB-9998-693489AF71B9}'}\n"
     ]
    }
   ],
   "source": [
    "news = []\n",
    "#\n",
    "for i in range(len(newsItems)):\n",
    "    item = newsItems.eq(i)\n",
    "    # url\n",
    "    item_url = item.find('h2>a').attr('href')\n",
    "    # title\n",
    "    item_title = item.find('h2>a').text()\n",
    "    # desc\n",
    "    item_desc = item.find('p').text()\n",
    "    # date\n",
    "    item_date = item.find('span.date').text()\n",
    "    # \n",
    "    new_item = {\n",
    "        'url': item_url,\n",
    "        'title': item_title,\n",
    "        'desc': item_desc,\n",
    "        'date': item_date\n",
    "    }\n",
    "    print(new_item)\n",
    "    news.append(new_item)"
   ]
  },
  {
   "cell_type": "code",
   "execution_count": 7,
   "metadata": {},
   "outputs": [],
   "source": [
    "import json\n",
    "\n",
    "with open('dt_news_parsed.json', 'w', encoding='utf-8') as f:\n",
    "    json.dump(news, f, ensure_ascii=False, indent=4)"
   ]
  }
 ],
 "metadata": {
  "kernelspec": {
   "display_name": "py3",
   "language": "python",
   "name": "py3"
  },
  "language_info": {
   "codemirror_mode": {
    "name": "ipython",
    "version": 3
   },
   "file_extension": ".py",
   "mimetype": "text/x-python",
   "name": "python",
   "nbconvert_exporter": "python",
   "pygments_lexer": "ipython3",
   "version": "3.5.9"
  }
 },
 "nbformat": 4,
 "nbformat_minor": 2
}
