{
 "cells": [
  {
   "cell_type": "markdown",
   "metadata": {},
   "source": [
    "*Stanislav Borysov [stabo@dtu.dk], DTU Management*\n",
    "# Advanced Business Analytics"
   ]
  },
  {
   "cell_type": "markdown",
   "metadata": {},
   "source": [
    "## Refreshing Python and Machine Learning: Part 1 - Python basics"
   ]
  },
  {
   "cell_type": "markdown",
   "metadata": {},
   "source": [
    "*Based on the notebooks from 42184 Data Science for Mobility E19 / 42577 Introduction to Business Analytics E19*"
   ]
  },
  {
   "cell_type": "markdown",
   "metadata": {},
   "source": [
    "<p>\n",
    "<a href=\"https://www.python.org/\">Python</a> is the <a href=\"http://cacm.acm.org/blogs/blog-cacm/176450-python-is-now-the-most-popular-introductory-teaching-language-at-top-us-universities/fulltext\"><b><u>most popular</u></b></a> programming language in scientific computing today. Python innately provides efficient data structures allowing for easy data manipulation. Furthermore, Python provides a simple approach to object-oriented programming, which in turn allows for intuitive programming.\n",
    "</p>\n",
    "<p>\n",
    "Python is an \"interpreted\" language. This means that every Python command that is executed is actually translated to C or C++ code before being executed. C and C++ are very fast and powerful programming languages, but writing programs in these languages can be difficult. We can think of Python as a friendly interface to this powerful computing backend. Therefore, Python code is often slower to run than the equivalent C/C++ code, but the Python code is often more understandable and yields shorter production time.\n",
    "</p>\n",
    "<p>\n",
    "While you shouldn't worry about this detail here, tools exist to decrease the execution time spent translating between Python and C. These tools come in the form of Python packages called \"modules\". These modules are prewritten code that can be imported into your code and used by you. Packages exist for vector algebra (<a href=\"http://www.numpy.org/\">numpy</a>), statistics and machine learning (<a href=\"http://www.scipy.org/\">scipy</a>), and plotting (<a href=\"http://matplotlib.org/\">matplotlib</a>). We will be using these modules.\n",
    "</p>\n",
    "<p>\n",
    "We will spend the first recitation becoming acquainted with basic Python and some of the packages we will be using. Here are some additional Python tutorials that you might want to read:\n",
    "</p>\n",
    "<ul>\n",
    "    <li>\n",
    "        <a href=\"https://docs.python.org/2/tutorial/\">Python's Tutorial</a>\n",
    "    </li>\n",
    "    <li>\n",
    "        <a href=\"https://developers.google.com/edu/python/\">Google's Python Tutorial</a>\n",
    "    </li>\n",
    "</ul>"
   ]
  },
  {
   "cell_type": "markdown",
   "metadata": {},
   "source": [
    "<p>\n",
    "The **Jupyter Notebook** is an open-source web browser application that allows you to create and share documents that contain live code, equations, videos, visualizations and explanatory text.\n",
    "</p>\n",
    "<p>\n",
    "IPython Notebook is a tool for interactively writing and executing Python code. It allows the programmer to easily write and test code by allowing snippets of code and their results to be displayed side-by-side. Each snippet of code is called a \"cell\". We will see later that even plots are possible. "
   ]
  },
  {
   "cell_type": "markdown",
   "metadata": {},
   "source": [
    "There are two central kinds of cells, they are called **Code** and **Markdown**. The cell type can be set using the menu above.\n",
    "\n",
    "The **Code** cells simply contain the Python code that we want to run each time.\n",
    "\n",
    "The **Markdown** cells contain text (explanations, sections, etc). The text is written in Markdown. Markdown allows you to write using an easy-to-read, easy-to-write plain text format, then convert it to structurally valid XHTML (or HTML). You can read more about it here:\n",
    "\n",
    "http://daringfireball.net/projects/markdown/"
   ]
  },
  {
   "cell_type": "markdown",
   "metadata": {},
   "source": [
    "## You can create sections\n",
    "\n",
    "* Write words in **bold** and *italics*\n",
    "* Create lists\n",
    "* Establish a [hyperlink](https://en.wikipedia.org/wiki/Hyperlink)\n",
    "\n",
    "(just double click on this cell to see how!   :-) )"
   ]
  },
  {
   "cell_type": "markdown",
   "metadata": {},
   "source": [
    "### Before we start "
   ]
  },
  {
   "cell_type": "markdown",
   "metadata": {},
   "source": [
    "These notebooks serve for you to learn interactively. We present a concept, give a few examples in code, and you try them. You will learn nothing if you ONLY do this! Don't be afraid of:\n",
    "- Messing around with our examples. Don't worry, you can always get the original file back! ;-)\n",
    "- Looking in the internet for other code, explanations, even solutions to the exercises!\n",
    "- Ask us in the class, by email, in the corridor\n",
    "\n",
    "We organized it into groups of topics, ending with small exercises, to let you assimilate the concepts. After you finish a module, don't move on if you feel insecure about what you've learned. Take a break, ask us, go back and try again.  "
   ]
  },
  {
   "cell_type": "markdown",
   "metadata": {},
   "source": [
    "## Our pledge"
   ]
  },
  {
   "cell_type": "markdown",
   "metadata": {},
   "source": [
    "If you do follow these notebooks and our guidance, we promise you'll feel very happy with yourself in a month or two! :-) You'll love Python, and feel ready to become a Data Scientist.\n",
    "\n",
    "But, the learning curve is steep, so bear with us! :-)"
   ]
  },
  {
   "cell_type": "markdown",
   "metadata": {},
   "source": [
    "# Python Data Structures"
   ]
  },
  {
   "cell_type": "markdown",
   "metadata": {},
   "source": [
    "#### 1. Python as a Calculator: Numeric Types and Their Methods"
   ]
  },
  {
   "cell_type": "code",
   "execution_count": null,
   "metadata": {},
   "outputs": [],
   "source": [
    "# Firstly, this is a single-line comment.\n",
    "\n",
    "# The '#' simple indicates a line of code that is ignored during execution.\n",
    "# Comments are helpful for explaining your code both as a reminder to \n",
    "# yourself and to others viewing your code (like a grader!!!).\n",
    "# Try executing this cell."
   ]
  },
  {
   "cell_type": "markdown",
   "metadata": {},
   "source": [
    "* Integers (int) are a numerical data-type. "
   ]
  },
  {
   "cell_type": "code",
   "execution_count": null,
   "metadata": {},
   "outputs": [],
   "source": [
    "print(1+2)\n",
    "print(3-2)\n",
    "print(5*6)"
   ]
  },
  {
   "cell_type": "markdown",
   "metadata": {},
   "source": [
    "* **Floats** are another numeric type that allows for fractions.\n",
    "     A decimal point indicates the number is a float.\n",
    "\n",
    "    For example,\n",
    "     2 is an **int**,\n",
    "     2.0 is a **float**."
   ]
  },
  {
   "cell_type": "code",
   "execution_count": null,
   "metadata": {},
   "outputs": [],
   "source": [
    "print(2)\n",
    "print(2.0)\n",
    "print(1.1+.5)\n",
    "print(3.2-1.9)\n",
    "print(6*5.2)\n",
    "print(7.1/2)"
   ]
  },
  {
   "cell_type": "markdown",
   "metadata": {},
   "source": [
    "Other mathematical functions are provided in various packages. \n",
    "\n",
    "Python has a **`math`** package that contains many useful mathematical functions. \n",
    "\n",
    "But we need to **`import`** pre-existing packages to use the code."
   ]
  },
  {
   "cell_type": "code",
   "execution_count": null,
   "metadata": {},
   "outputs": [],
   "source": [
    "import math\n",
    "print(math.pi)\n",
    "print(math.sin(math.pi/2))"
   ]
  },
  {
   "cell_type": "markdown",
   "metadata": {},
   "source": [
    "The period in **`math.<some math function>`** indicates which package to look into for the borrowed code, but it can get annoying."
   ]
  },
  {
   "cell_type": "code",
   "execution_count": null,
   "metadata": {},
   "outputs": [],
   "source": [
    "from math import *\n",
    "print(pi)\n",
    "print(sin(pi/2))"
   ]
  },
  {
   "cell_type": "markdown",
   "metadata": {},
   "source": [
    "For efficiency, you may wish to only **`import`** the functions you know you will use rather than importing all of the code in the module (which means you'd use more memory)."
   ]
  },
  {
   "cell_type": "code",
   "execution_count": null,
   "metadata": {},
   "outputs": [],
   "source": [
    "from math import sin,pi\n",
    "print(pi)\n",
    "print(sin(pi/2))"
   ]
  },
  {
   "cell_type": "markdown",
   "metadata": {},
   "source": [
    "Furthermore, you may wish to rename imported functions to make better sense with your own code."
   ]
  },
  {
   "cell_type": "code",
   "execution_count": null,
   "metadata": {},
   "outputs": [],
   "source": [
    "from math import sin as S\n",
    "print(S(pi/2))"
   ]
  },
  {
   "cell_type": "markdown",
   "metadata": {},
   "source": [
    "#### 2. Variables and Strings"
   ]
  },
  {
   "cell_type": "markdown",
   "metadata": {},
   "source": [
    "Let's define our own **variable**."
   ]
  },
  {
   "cell_type": "code",
   "execution_count": null,
   "metadata": {},
   "outputs": [],
   "source": [
    "x = 1.0\n",
    "print(x)\n",
    "print(x*2)"
   ]
  },
  {
   "cell_type": "markdown",
   "metadata": {},
   "source": [
    "Variables are case-sensitive"
   ]
  },
  {
   "cell_type": "code",
   "execution_count": null,
   "metadata": {},
   "outputs": [],
   "source": [
    "x=1\n",
    "X=2.0\n",
    "print(x)\n",
    "print(X)"
   ]
  },
  {
   "cell_type": "markdown",
   "metadata": {},
   "source": [
    "Variables can be mixed in strings, by using the function str()"
   ]
  },
  {
   "cell_type": "code",
   "execution_count": null,
   "metadata": {},
   "outputs": [],
   "source": [
    "print(\"The value of x is \"+str(x))"
   ]
  },
  {
   "cell_type": "markdown",
   "metadata": {},
   "source": [
    "...or by using C-like references"
   ]
  },
  {
   "cell_type": "code",
   "execution_count": null,
   "metadata": {},
   "outputs": [],
   "source": [
    "print(\"The value of x is %d and the value of X is %f\"%(x,X))"
   ]
  },
  {
   "cell_type": "markdown",
   "metadata": {},
   "source": [
    "The following retrieves the value stored in x, adds 2 to it, and stores the result in x."
   ]
  },
  {
   "cell_type": "code",
   "execution_count": null,
   "metadata": {},
   "outputs": [],
   "source": [
    "x+=2  # same as x=x+2\n",
    "print(x)\n",
    "x-=10 # same as x=x-10\n",
    "print(x)\n",
    "x=x+2\n",
    "print(x)  #just to make sure you get the point!  ;-)"
   ]
  },
  {
   "cell_type": "markdown",
   "metadata": {},
   "source": [
    "A **string** is sequence of characters. It allows Python to store and manipulate words"
   ]
  },
  {
   "cell_type": "code",
   "execution_count": null,
   "metadata": {},
   "outputs": [],
   "source": [
    "print(\"Hello World.\")"
   ]
  },
  {
   "cell_type": "markdown",
   "metadata": {},
   "source": [
    "Let's store a string in a variable called **\"s\"**.\n",
    "\n",
    "Note that using ' and \" to define strings are interchangeable."
   ]
  },
  {
   "cell_type": "code",
   "execution_count": null,
   "metadata": {},
   "outputs": [],
   "source": [
    "s = 'This is a string.'\n",
    "print(s)"
   ]
  },
  {
   "cell_type": "markdown",
   "metadata": {},
   "source": [
    "We can access individual characters from the string."
   ]
  },
  {
   "cell_type": "code",
   "execution_count": null,
   "metadata": {},
   "outputs": [],
   "source": [
    "print(s[0]) #first caracter of the string is 0"
   ]
  },
  {
   "cell_type": "markdown",
   "metadata": {},
   "source": [
    "You can add strings together"
   ]
  },
  {
   "cell_type": "code",
   "execution_count": null,
   "metadata": {},
   "outputs": [],
   "source": [
    "s = s + \" Another string.\"\n",
    "print(s)\n",
    "s+=\" A third string.\"\n",
    "print(s)"
   ]
  },
  {
   "cell_type": "markdown",
   "metadata": {},
   "source": [
    "You can concatenate (combine) strings with numbers in several different ways"
   ]
  },
  {
   "cell_type": "code",
   "execution_count": null,
   "metadata": {},
   "outputs": [],
   "source": [
    "s1=\"Yes, this is number\" + str(20) + \"and this is\" + str(10)   #Notice that when you use the \"+\" \n",
    "s2=\"Yes, this is number \" + str(20) + \" and this is \" + str(10) # you have to put manually space between the components.\n",
    "s3=\"Yes, this in number %d and this is %d\" % (20, 10)    #Now, we use the % references\n",
    "s4=\"Yes, this in number {} and this is {}\".format(20, 10)    #Now, we use the format method\n",
    "print(s1)\n",
    "print(s2)\n",
    "print(s3)\n",
    "print(s4)"
   ]
  },
  {
   "cell_type": "markdown",
   "metadata": {},
   "source": [
    "#### 3. True or False?"
   ]
  },
  {
   "cell_type": "markdown",
   "metadata": {},
   "source": [
    "**Booleans**, or bools, are our last native data type. They can hold only two possible values: **True** or **False**.\n",
    "\n",
    "There are several functions that act on booleans. Let x and y be variables storing booleans.\n",
    "\n",
    "* \"Not x\" switches the value of x. If x is True, then \"not x\" is False.\n",
    "* \"x and y\" returns True if x and y are True.\n",
    "* \"x or y\" returns True if x or y are True."
   ]
  },
  {
   "cell_type": "code",
   "execution_count": null,
   "metadata": {},
   "outputs": [],
   "source": [
    "x = True\n",
    "y = False\n",
    "print(x)\n",
    "print(not x)\n",
    "print(x and y)\n",
    "print(x and not y)\n",
    "print(x or y)\n",
    "print(not x or y)"
   ]
  },
  {
   "cell_type": "markdown",
   "metadata": {},
   "source": [
    "**'=='** tests for equality"
   ]
  },
  {
   "cell_type": "code",
   "execution_count": null,
   "metadata": {},
   "outputs": [],
   "source": [
    "print(1 == 2)\n",
    "print(1 == 1)"
   ]
  },
  {
   "cell_type": "markdown",
   "metadata": {},
   "source": [
    "**'!='** tests for inequality"
   ]
  },
  {
   "cell_type": "code",
   "execution_count": null,
   "metadata": {},
   "outputs": [],
   "source": [
    "print(1 != 2)"
   ]
  },
  {
   "cell_type": "markdown",
   "metadata": {},
   "source": [
    "Notice the difference between \"=\" and \"==\""
   ]
  },
  {
   "cell_type": "code",
   "execution_count": null,
   "metadata": {},
   "outputs": [],
   "source": [
    "x=1\n",
    "print(x==1)\n",
    "y=2\n",
    "print(y==1)"
   ]
  },
  {
   "cell_type": "markdown",
   "metadata": {},
   "source": [
    "## If statements: Quizzing Your Code"
   ]
  },
  {
   "cell_type": "markdown",
   "metadata": {},
   "source": [
    "Booleans are almost always used for If-statements. \n",
    "\n",
    "If-statements execute a section of code if a given bool evaluates to True. Note that the sections of code under if-statements need to be indented.\n",
    "\n",
    "Using a **\":\"** indicates that an indented section of code follows. \n",
    "\n",
    "(to understand this VERY important point, try playing with the indentation to see what happens! ;-) ). "
   ]
  },
  {
   "cell_type": "code",
   "execution_count": null,
   "metadata": {},
   "outputs": [],
   "source": [
    "flag = True\n",
    "x = 0\n",
    "if flag:\n",
    "    x = 1\n",
    "    print(\"Flag is True.\")\n",
    "else:\n",
    "    x = 2\n",
    "    print(\"Flag is False.\")\n",
    "print(x)"
   ]
  },
  {
   "cell_type": "markdown",
   "metadata": {},
   "source": [
    "We can check for other cases as well. Controlling the execution of codelike this is referred to as \"flow of control\"."
   ]
  },
  {
   "cell_type": "code",
   "execution_count": null,
   "metadata": {},
   "outputs": [],
   "source": [
    "if x == 0:\n",
    "    print(\"A\")\n",
    "elif x == 1:\n",
    "    print('B')\n",
    "else:\n",
    "    print(\"C\")"
   ]
  },
  {
   "cell_type": "markdown",
   "metadata": {},
   "source": [
    "***Exercise***: Write a small Python script to add 'ing' at the end of a given string if its length is at least 3. If the string already ends with 'ing' then add 'ly' instead. If the string length of the given string is less than 3, leave it unchanged."
   ]
  },
  {
   "cell_type": "code",
   "execution_count": null,
   "metadata": {},
   "outputs": [],
   "source": [
    "# ..."
   ]
  },
  {
   "cell_type": "markdown",
   "metadata": {},
   "source": [
    "## Storing data in Python: Lists and Dictionaries"
   ]
  },
  {
   "cell_type": "markdown",
   "metadata": {},
   "source": [
    "### LISTS"
   ]
  },
  {
   "cell_type": "markdown",
   "metadata": {},
   "source": [
    "> Lists are a data structure designed for easy storage and access to data. They are initialized using by using \"[]\" to enclose a comma separated sequence of values. These values can be anything."
   ]
  },
  {
   "cell_type": "code",
   "execution_count": null,
   "metadata": {
    "collapsed": true
   },
   "outputs": [],
   "source": [
    "L1 = [] # an empty list\n",
    "x = 5\n",
    "L2 = [1,2.0,'a',\"abcd\",True,x] # a list containing different values"
   ]
  },
  {
   "cell_type": "markdown",
   "metadata": {},
   "source": [
    "> Lists can be built dynamically (aka on the fly) using **`append`** and **`extend`**"
   ]
  },
  {
   "cell_type": "code",
   "execution_count": null,
   "metadata": {},
   "outputs": [],
   "source": [
    "L1.append(1)\n",
    "L1.append(2)\n",
    "print(L1)\n",
    "L3 = ['a','b','c']\n",
    "L1.extend(L3)\n",
    "print(L1)"
   ]
  },
  {
   "cell_type": "markdown",
   "metadata": {},
   "source": [
    "> * Values stored in lists are accessible by their index in the list. \n",
    "> * Lists maintain the ordering in which values were stored in them.\n",
    "> * We use \"[i]\" to retrieve the i-th element in a list.\n",
    "\n",
    "> Note that the first element in a list in Python has index 0."
   ]
  },
  {
   "cell_type": "code",
   "execution_count": null,
   "metadata": {},
   "outputs": [],
   "source": [
    "L = ['a','b','c','d','e']\n",
    "print(L[0])\n",
    "print(L[1])\n",
    "\n",
    "# We can access from the ends of lists as well.\n",
    "print(L[-1])\n",
    "print(L[-2])\n",
    "\n",
    "# We can access chunks of a list to produce sub-lists.\n",
    "print(L[:2])\n",
    "print(L[2:4])\n",
    "\n",
    "# There is a useful function for producing sequences of numbers.\n",
    "print(range(10))\n",
    "print(range(10)[0])\n",
    "print(range(10)[1])\n",
    "print(range(10)[9])\n",
    "\n",
    "# The length of a list can be calculated using \"len()\"\n",
    "print(len(range(10)))"
   ]
  },
  {
   "cell_type": "markdown",
   "metadata": {},
   "source": [
    "### A quick note..."
   ]
  },
  {
   "cell_type": "markdown",
   "metadata": {},
   "source": [
    "<p>\n",
    "<img src=\"https://i.stack.imgur.com/IC6Xm.png\"/>\n",
    "</p>"
   ]
  },
  {
   "cell_type": "markdown",
   "metadata": {},
   "source": [
    "The above image illustrates how references work in Python. 2 is an object, a and b are names. We can have different names pointing at the same object. And objects can exist without any name.\n",
    "\n",
    "Assigning a variable only attaches a nametag. And deleting a variable only removes a nametag. If you keep this idea in mind, then the Python object model will never surprise you again.\n",
    "\n",
    "Let's see another example..."
   ]
  },
  {
   "cell_type": "code",
   "execution_count": null,
   "metadata": {
    "collapsed": true
   },
   "outputs": [],
   "source": [
    "B=L"
   ]
  },
  {
   "cell_type": "code",
   "execution_count": null,
   "metadata": {
    "scrolled": true
   },
   "outputs": [],
   "source": [
    "B.append(9)\n",
    "print(L)"
   ]
  },
  {
   "cell_type": "markdown",
   "metadata": {},
   "source": [
    "confused? :-P Don't forget to play with the code yourself! \n",
    "\n",
    "Try to actually copy a list (such that, if you change the values in one, the other will NOT be affected). Feel free to search the web to find the solution."
   ]
  },
  {
   "cell_type": "code",
   "execution_count": null,
   "metadata": {},
   "outputs": [],
   "source": [
    "# This post about it is excellent: https://stackoverflow.com/questions/2612802/how-to-clone-or-copy-a-list\n",
    "\n",
    "#First way to copy a list\n",
    "L_copy = L[:]  #this is equivalent:  L_copy = list(L) \n",
    "\n",
    "#Second way to copy a list, using\n",
    "import copy\n",
    "L_copy2 = copy.copy(L)\n",
    "\n",
    "#Third way: it copies the list, and any sublists (or dictionaries, or whatever) that are inside!\n",
    "L_copy3 = copy.deepcopy(L)\n",
    "\n",
    "#Let's make some changes:\n",
    "L_copy.append(10)\n",
    "\n",
    "# Can you append another list?\n",
    "L_copy2.append([7, 8, 9])\n",
    "\n",
    "#or is it this that we want?\n",
    "L_copy3.extend([7, 8, 9])\n",
    "\n",
    "\n",
    "print(\"original =\\t\\t\\t\\t\\t\", L)   #the \\t is just to put a \"tab\", to align the output...\n",
    "print(\"used [:] and appended 10 =\\t\\t\\t\", L_copy)\n",
    "print(\"used copy.copy and appended [7, 8, 9] =\\t\\t\", L_copy2)\n",
    "print(\"used copy.deepcopy and extended [7, 8, 9] =\\t\",L_copy3)\n",
    "\n",
    "\n",
    "#If you are wondering what is the difference of a list (L_copy) and an numpy array (L_copy2) follow the link below:\n",
    "# http://pythoncentral.io/the-difference-between-a-list-and-an-array/"
   ]
  },
  {
   "cell_type": "markdown",
   "metadata": {},
   "source": [
    "Keep playing with lists\n",
    "\n",
    "Suggestion: Try summing two lists"
   ]
  },
  {
   "cell_type": "code",
   "execution_count": null,
   "metadata": {},
   "outputs": [],
   "source": [
    "# ..."
   ]
  },
  {
   "cell_type": "markdown",
   "metadata": {},
   "source": [
    "Suggestion: Try multiplying a list by a number (an integer and a float)"
   ]
  },
  {
   "cell_type": "code",
   "execution_count": null,
   "metadata": {},
   "outputs": [],
   "source": [
    "# ..."
   ]
  },
  {
   "cell_type": "markdown",
   "metadata": {},
   "source": [
    "Suggestion: Try changing an element in a list"
   ]
  },
  {
   "cell_type": "code",
   "execution_count": null,
   "metadata": {},
   "outputs": [],
   "source": [
    "# ..."
   ]
  },
  {
   "cell_type": "markdown",
   "metadata": {},
   "source": [
    "### DICTIONARIES"
   ]
  },
  {
   "cell_type": "markdown",
   "metadata": {},
   "source": [
    "> **Dictionaries**, called \"dicts\" for short, allow you to store values by providing identifying keys. \n",
    "\n",
    "> Dicts are initialized using \"{}\".\n",
    "\n",
    "#json is essentially the same format -> if you understand dictionaries, you'll understand json!  ;-)"
   ]
  },
  {
   "cell_type": "code",
   "execution_count": null,
   "metadata": {},
   "outputs": [],
   "source": [
    "D = {} # an empty dict\n",
    "D2 = {'key1':1,'key2':\"moose\",4:5}\n",
    "print(D2)\n",
    "# Key-value pairs can also be defined like this\n",
    "D2[6] = False\n",
    "print(D2)\n",
    "# values can be retrieved using their keys.\n",
    "print(D2['key1'])\n",
    "print(D2[6])\n",
    "\n",
    "if not D2[6]:\n",
    "    print(\"Dicts are fun.\")\n",
    "else:\n",
    "    print(\"Dicts are not that fun.\")\n",
    "    \n",
    "# The keys and values of dicts can be accessed as lists.\n",
    "print(\"keys: \"+str(D2.keys()))\n",
    "print(\"values: \"+str(D2.values()))"
   ]
  },
  {
   "cell_type": "markdown",
   "metadata": {},
   "source": [
    "You can nest dictionaries."
   ]
  },
  {
   "cell_type": "code",
   "execution_count": null,
   "metadata": {},
   "outputs": [],
   "source": [
    "D1={2800:\"Kongens Lyngby\", 2840: \"Holte\", 2000:\"Frederiksberg\", 2100:\"Copenhagen Ø\", 2150:\"Nordhavn\", 2200: \"Copenhagen N\"}\n",
    "D={\"dict1\": D1, \"dict2\":D2}\n",
    "print(D)"
   ]
  },
  {
   "cell_type": "markdown",
   "metadata": {},
   "source": [
    "## For Statements"
   ]
  },
  {
   "cell_type": "markdown",
   "metadata": {},
   "source": [
    "For-loops allow you to execute a section of code for several values in a list.\n",
    "\n",
    "The syntax is like the syntax of if-statements."
   ]
  },
  {
   "cell_type": "code",
   "execution_count": null,
   "metadata": {},
   "outputs": [],
   "source": [
    "X = range(5)\n",
    "print(X)\n",
    "\n",
    "for x in X:\n",
    "    print(x)\n",
    "\n",
    "for i in range(len(X)):\n",
    "    # doubles the list element\n",
    "    print(X[i]*2)"
   ]
  },
  {
   "cell_type": "markdown",
   "metadata": {},
   "source": [
    "### `Break` and `continue`  Statements"
   ]
  },
  {
   "cell_type": "markdown",
   "metadata": {},
   "source": [
    "You might face a situation in which you need to exit a loop completely when an external condition is triggered or there may also be a situation when you want to skip a part of the loop and start next execution.\n",
    "\n",
    "Python provides break and continue statements to handle such situations and to have good control on your loop."
   ]
  },
  {
   "cell_type": "markdown",
   "metadata": {},
   "source": [
    "The **`break`** statement in Python terminates the current loop and resumes execution at the next statement, just like the traditional break found in C."
   ]
  },
  {
   "cell_type": "code",
   "execution_count": null,
   "metadata": {},
   "outputs": [],
   "source": [
    "for letter in 'Python':\n",
    "    if letter == 'h':\n",
    "        break\n",
    "    print('Current Letter: %c'%letter)"
   ]
  },
  {
   "cell_type": "markdown",
   "metadata": {},
   "source": [
    "The **`continue`** statement in Python returns the control to the beginning of the while loop. The continue statement rejects all the remaining statements in the current iteration of the loop and moves the control back to the top of the loop."
   ]
  },
  {
   "cell_type": "code",
   "execution_count": null,
   "metadata": {},
   "outputs": [],
   "source": [
    "for letter in 'Python':   \n",
    "    if letter == 'h':\n",
    "        continue\n",
    "    print('Current Letter: %c'%letter)"
   ]
  },
  {
   "cell_type": "markdown",
   "metadata": {},
   "source": [
    "## EXERCISES"
   ]
  },
  {
   "cell_type": "markdown",
   "metadata": {},
   "source": [
    "1) Write a Python program to sum all the items in a list."
   ]
  },
  {
   "cell_type": "code",
   "execution_count": null,
   "metadata": {},
   "outputs": [],
   "source": [
    "# ..."
   ]
  },
  {
   "cell_type": "markdown",
   "metadata": {},
   "source": [
    "2) Write a Python function that takes a list of words and returns the length of the longest one."
   ]
  },
  {
   "cell_type": "code",
   "execution_count": null,
   "metadata": {},
   "outputs": [],
   "source": [
    "# ..."
   ]
  },
  {
   "cell_type": "markdown",
   "metadata": {},
   "source": [
    "3) Write a Python program to get the largest number from a list."
   ]
  },
  {
   "cell_type": "code",
   "execution_count": null,
   "metadata": {},
   "outputs": [],
   "source": [
    "# ..."
   ]
  },
  {
   "cell_type": "markdown",
   "metadata": {},
   "source": [
    "4) Write a Python program to print the numbers of a specified list after removing even numbers from it."
   ]
  },
  {
   "cell_type": "code",
   "execution_count": null,
   "metadata": {},
   "outputs": [],
   "source": [
    "# ..."
   ]
  },
  {
   "cell_type": "markdown",
   "metadata": {},
   "source": [
    "## Modules - Functions"
   ]
  },
  {
   "cell_type": "markdown",
   "metadata": {},
   "source": [
    "Modules allow a programmer to write reusable code. Writing code with many functions is called programming \"functionally\".\n",
    "\n",
    "Functions are defined using the key work **\"def\"**."
   ]
  },
  {
   "cell_type": "markdown",
   "metadata": {},
   "source": [
    "* Consider this example:"
   ]
  },
  {
   "cell_type": "markdown",
   "metadata": {},
   "source": [
    "> First choose an initial value for x."
   ]
  },
  {
   "cell_type": "code",
   "execution_count": null,
   "metadata": {
    "collapsed": false
   },
   "outputs": [],
   "source": [
    "x = 0\n",
    "for i in range(100):\n",
    "    x+=i\n",
    "print(x)"
   ]
  },
  {
   "cell_type": "markdown",
   "metadata": {},
   "source": [
    "> What if we do this for a new initial value for x? \n",
    "\n",
    "> What if we use a different number instead of 100?\n",
    "\n",
    "> We don't want to rewrite this for loop every time. \n",
    "\n",
    "> **Let's define a function.**\n",
    "\n",
    "> We need to use the keyword def"
   ]
  },
  {
   "cell_type": "code",
   "execution_count": null,
   "metadata": {
    "collapsed": true
   },
   "outputs": [],
   "source": [
    "def ForSum(x,y):\n",
    "    for i in range(y):\n",
    "        x+=i\n",
    "    # \"return\" indicates what values to output\n",
    "    return x"
   ]
  },
  {
   "cell_type": "code",
   "execution_count": null,
   "metadata": {
    "collapsed": false
   },
   "outputs": [],
   "source": [
    "# Same calculation from above\n",
    "print(ForSum(0,100))\n",
    "print(ForSum(10,50))"
   ]
  },
  {
   "cell_type": "markdown",
   "metadata": {},
   "source": [
    "Interestingly, pointers can store functions. This means that functions can be inputs to other functions."
   ]
  },
  {
   "cell_type": "code",
   "execution_count": null,
   "metadata": {
    "collapsed": false
   },
   "outputs": [],
   "source": [
    "F = ForSum\n",
    "print(F(0,100))\n",
    "\n",
    "def execute(funct,x):\n",
    "    return funct(x,100)\n",
    "\n",
    "print(execute(F,10))\n",
    "\n",
    "# Now, just for fun:\n",
    "print(F(F(F(10,100),50),1000))"
   ]
  },
  {
   "cell_type": "markdown",
   "metadata": {},
   "source": [
    "#### Let's look at calculating an average using a Python list.\n",
    " \n"
   ]
  },
  {
   "cell_type": "code",
   "execution_count": null,
   "metadata": {
    "collapsed": false
   },
   "outputs": [],
   "source": [
    "import time\n",
    "\n",
    "def avg(X, pr=False): \n",
    "    sum = 0.0\n",
    "    for x in X:\n",
    "        sum += x\n",
    "    if pr:\n",
    "        print(\"...and the average is...\", sum/len(X))\n",
    "    return sum/len(X)\n",
    "\n",
    "X = range(1000000) # 0,1,2,3,...,999999\n",
    "startTime = time.clock()\n",
    "Y = avg(X)\n",
    "wallTime1 = time.clock() - startTime     #This is the time it takes to do an average calculation (of 1000000 list) with python lists\n",
    "print(str(wallTime1)+\" seconds using Python list.\")   "
   ]
  },
  {
   "cell_type": "markdown",
   "metadata": {},
   "source": [
    "You should understand what the pr=False in the def statement means"
   ]
  },
  {
   "cell_type": "markdown",
   "metadata": {},
   "source": [
    "***It provides a default value (False) to the parameter pr.***"
   ]
  },
  {
   "cell_type": "markdown",
   "metadata": {},
   "source": [
    " If you don't even mention it, it will assume it is False"
   ]
  },
  {
   "cell_type": "code",
   "execution_count": null,
   "metadata": {
    "collapsed": false
   },
   "outputs": [],
   "source": [
    "avg(X)"
   ]
  },
  {
   "cell_type": "markdown",
   "metadata": {},
   "source": [
    "You can also use the function normally"
   ]
  },
  {
   "cell_type": "code",
   "execution_count": null,
   "metadata": {
    "collapsed": false
   },
   "outputs": [],
   "source": [
    "avg(X, True)"
   ]
  },
  {
   "cell_type": "markdown",
   "metadata": {},
   "source": [
    "### Defining Functions of your Own"
   ]
  },
  {
   "cell_type": "code",
   "execution_count": null,
   "metadata": {
    "collapsed": false
   },
   "outputs": [],
   "source": [
    "#Function with parameter called in main\n",
    "\n",
    "def happyBirthday(person):\n",
    "    print(\"Happy Birthday to you!\")\n",
    "    print(\"Happy Birthday to you!\")\n",
    "    print(\"Happy Birthday, dear \" + person + \".\")\n",
    "    print(\"Happy Birthday to you!\")\n",
    "\n",
    "def main():\n",
    "    happyBirthday('Emily')\n",
    "    happyBirthday('Andre')\n",
    "\n",
    "main()"
   ]
  },
  {
   "cell_type": "markdown",
   "metadata": {},
   "source": [
    "Let's see what will happen if the input variable has a default value..."
   ]
  },
  {
   "cell_type": "code",
   "execution_count": null,
   "metadata": {
    "collapsed": true
   },
   "outputs": [],
   "source": [
    "#Function with parameter called in main\n",
    "\n",
    "def happyBirthday(person = 'Emily'):\n",
    "    print(\"Happy Birthday to you!\")\n",
    "    print(\"Happy Birthday to you!\")\n",
    "    print(\"Happy Birthday, dear \" + person + \".\")\n",
    "    print(\"Happy Birthday to you!\")"
   ]
  },
  {
   "cell_type": "code",
   "execution_count": null,
   "metadata": {
    "collapsed": true
   },
   "outputs": [],
   "source": [
    "def main():\n",
    "    happyBirthday()\n",
    "    happyBirthday('Andre')"
   ]
  },
  {
   "cell_type": "markdown",
   "metadata": {},
   "source": [
    "What would you expect to see???"
   ]
  },
  {
   "cell_type": "code",
   "execution_count": null,
   "metadata": {
    "collapsed": false
   },
   "outputs": [],
   "source": [
    "main()"
   ]
  },
  {
   "cell_type": "markdown",
   "metadata": {},
   "source": [
    "### `*args` and `**kwargs` in python "
   ]
  },
  {
   "cell_type": "markdown",
   "metadata": {},
   "source": [
    "`*args` is used to send a non-keyworded variable length argument list to the function. Here’s an example to help you get a clear idea:"
   ]
  },
  {
   "cell_type": "code",
   "execution_count": null,
   "metadata": {
    "collapsed": false
   },
   "outputs": [],
   "source": [
    "def test_var_args(f_arg, *argv):\n",
    "    print(\"first normal arg:\", f_arg)\n",
    "    for arg in argv:\n",
    "        print(\"another arg through *argv :\"+str(arg))\n",
    "\n",
    "test_var_args('yasoob','python','eggs','test')"
   ]
  },
  {
   "cell_type": "markdown",
   "metadata": {},
   "source": [
    "`**kwargs` allows you to pass keyworded variable length of arguments to a function. You should use `**kwargs` if you want to handle named arguments in a function. Here is an example to get you going with it:"
   ]
  },
  {
   "cell_type": "code",
   "execution_count": null,
   "metadata": {
    "collapsed": true
   },
   "outputs": [],
   "source": [
    "def greet_me(**kwargs):\n",
    "    if kwargs is not None:\n",
    "        for key, value in kwargs.items():\n",
    "            print(\"%s == %s\" %(key,value))"
   ]
  },
  {
   "cell_type": "code",
   "execution_count": null,
   "metadata": {
    "collapsed": false
   },
   "outputs": [],
   "source": [
    "greet_me(name=\"yasoob\")"
   ]
  },
  {
   "cell_type": "code",
   "execution_count": null,
   "metadata": {
    "collapsed": true
   },
   "outputs": [],
   "source": [
    "def test_args_kwargs(arg1, arg2, arg3):\n",
    "    print(\"arg1:\", arg1)\n",
    "    print(\"arg2:\", arg2)\n",
    "    print(\"arg3:\", arg3)"
   ]
  },
  {
   "cell_type": "code",
   "execution_count": null,
   "metadata": {
    "collapsed": false
   },
   "outputs": [],
   "source": [
    "# first with *args\n",
    "args = (\"two\", 3,5)\n",
    "test_args_kwargs(*args)"
   ]
  },
  {
   "cell_type": "code",
   "execution_count": null,
   "metadata": {
    "collapsed": false
   },
   "outputs": [],
   "source": [
    "# now with **kwargs:\n",
    "kwargs = {\"arg3\": 3, \"arg2\": \"two\",\"arg1\":5}\n",
    "test_args_kwargs(**kwargs)"
   ]
  },
  {
   "cell_type": "markdown",
   "metadata": {},
   "source": [
    "### Exercises"
   ]
  },
  {
   "cell_type": "markdown",
   "metadata": {},
   "source": [
    "1) Write a Python function to find the Max of three numbers"
   ]
  },
  {
   "cell_type": "code",
   "execution_count": null,
   "metadata": {
    "collapsed": false
   },
   "outputs": [],
   "source": [
    "# ..."
   ]
  },
  {
   "cell_type": "markdown",
   "metadata": {},
   "source": [
    "2) Write a Python function that receives a \"day of week\" (0=sunday, 6=saturday), and returns whether it's weekeday or weekend"
   ]
  },
  {
   "cell_type": "code",
   "execution_count": null,
   "metadata": {
    "collapsed": false
   },
   "outputs": [],
   "source": [
    "# ..."
   ]
  },
  {
   "cell_type": "markdown",
   "metadata": {},
   "source": [
    "3) Write a Python function that receives two lists (representing two vectors) and returns their internal product."
   ]
  },
  {
   "cell_type": "code",
   "execution_count": null,
   "metadata": {
    "collapsed": false
   },
   "outputs": [],
   "source": [
    "# ..."
   ]
  },
  {
   "cell_type": "markdown",
   "metadata": {},
   "source": [
    "4) Write a Python function that receives a list, and returns its average and standard deviation"
   ]
  },
  {
   "cell_type": "code",
   "execution_count": null,
   "metadata": {
    "collapsed": false
   },
   "outputs": [],
   "source": [
    "# ..."
   ]
  }
 ],
 "metadata": {
  "kernelspec": {
   "display_name": "Python 3",
   "language": "python",
   "name": "python3"
  },
  "language_info": {
   "codemirror_mode": {
    "name": "ipython",
    "version": 3
   },
   "file_extension": ".py",
   "mimetype": "text/x-python",
   "name": "python",
   "nbconvert_exporter": "python",
   "pygments_lexer": "ipython3",
   "version": "3.5.9"
  }
 },
 "nbformat": 4,
 "nbformat_minor": 2
}
